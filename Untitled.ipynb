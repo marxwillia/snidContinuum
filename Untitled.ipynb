{
 "cells": [
  {
   "cell_type": "code",
   "execution_count": 32,
   "metadata": {
    "collapsed": true
   },
   "outputs": [],
   "source": [
    "from __future__ import division\n",
    "import numpy as np\n",
    "import matplotlib.pyplot as plt"
   ]
  },
  {
   "cell_type": "code",
   "execution_count": 66,
   "metadata": {
    "collapsed": true
   },
   "outputs": [],
   "source": [
    "orig_dat = np.loadtxt('./2016coi_2016-07-06_03-28-05_LT_SPRAT_None.txt')\n"
   ]
  },
  {
   "cell_type": "code",
   "execution_count": 34,
   "metadata": {
    "collapsed": true
   },
   "outputs": [],
   "source": [
    "flat_dat = np.loadtxt('./2016coi_2016-07-06_03-28-05_LT_SPRAT_None_snidflat.dat')"
   ]
  },
  {
   "cell_type": "code",
   "execution_count": 81,
   "metadata": {
    "collapsed": true
   },
   "outputs": [],
   "source": [
    "lnw_dat = np.loadtxt('./16coi_cont.lnw',skiprows=10)\n",
    "wvl = lnw_dat[:,0]"
   ]
  },
  {
   "cell_type": "code",
   "execution_count": 36,
   "metadata": {
    "collapsed": false
   },
   "outputs": [
    {
     "data": {
      "image/png": "[encoded data removed]",
      "text/plain": [
       "<Figure size 432x288 with 1 Axes>"
      ]
     },
     "metadata": {},
     "output_type": "display_data"
    }
   ],
   "source": [
    "plt.plot(orig_dat[:,0],orig_dat[:,1]/np.mean(orig_dat[:,1]),'b',label='with continuum')\n",
    "plt.plot(flat_dat[:,0],flat_dat[:,1],'r',label='snid flattened')\n",
    "plt.plot(lnw_dat[:,0],lnw_dat[:,1],'g',label='logwave output')\n",
    "plt.xlabel('Wavelength')\n",
    "plt.ylabel('Flux')\n",
    "plt.legend()\n",
    "plt.show()"
   ]
  },
  {
   "cell_type": "code",
   "execution_count": 37,
   "metadata": {
    "collapsed": false
   },
   "outputs": [],
   "source": [
    "with open('./16coi_cont.lnw') as f:\n",
    "    lines = f.readlines()\n",
    "    header = lines[0]\n",
    "    header = header.split()\n",
    "    nspec = int(header[0].strip())\n",
    "    cont_header = lines[1]\n",
    "    cont_header = cont_header.split()\n",
    "    cont_header = np.array([float(el.strip()) for el in cont_header])\n",
    "    mostknots = int(cont_header[0])\n",
    "    cont = []\n",
    "    for i in range(mostknots):\n",
    "        knotline = lines[2+i].split()\n",
    "        knotline = [float(el.strip()) for el in knotline]\n",
    "        cont.append(knotline)\n",
    "    cont = np.array(cont)\n",
    "    #cont = cont[:,1:]\n",
    "    f.close()"
   ]
  },
  {
   "cell_type": "code",
   "execution_count": 38,
   "metadata": {
    "collapsed": false
   },
   "outputs": [
    {
     "name": "stdout",
     "output_type": "stream",
     "text": [
      "['1', '1024', '2500.00', '10000.00', '7', '16coi_cont', '-9.99', 'Ic', '3', '2']\n",
      "1\n",
      "[  7.        7.      -13.91524]\n",
      "7\n"
     ]
    },
    {
     "data": {
      "text/plain": [
       "array([[ 1.    ,  2.5676, -0.6231],\n",
       "       [ 2.    ,  2.6325, -0.3262],\n",
       "       [ 3.    ,  2.705 , -0.1975],\n",
       "       [ 4.    ,  2.7672,  0.0709],\n",
       "       [ 5.    ,  2.8215,  0.1447],\n",
       "       [ 6.    ,  2.8698,  0.2371],\n",
       "       [ 7.    ,  2.9125,  0.0145]])"
      ]
     },
     "execution_count": 38,
     "metadata": {},
     "output_type": "execute_result"
    }
   ],
   "source": [
    "print header\n",
    "print nspec\n",
    "print cont_header\n",
    "print mostknots\n",
    "cont"
   ]
  },
  {
   "cell_type": "code",
   "execution_count": 124,
   "metadata": {
    "collapsed": true
   },
   "outputs": [],
   "source": [
    "def knot_meanflux_list(cont_header):\n",
    "    knot_meanflux_pair_list = []\n",
    "    for i in range(int(len(cont_header[1:])/2)):\n",
    "        nknot = cont_header[1:][2*i]\n",
    "        logfmean = cont_header[1:][2*i + 1]\n",
    "        pair = (nknot, logfmean)\n",
    "        knot_meanflux_pair_list.append(pair)\n",
    "    return knot_meanflux_pair_list\n",
    "\n",
    "def knot_dict(cont):\n",
    "    d = dict()\n",
    "    for row in cont:\n",
    "        key = row[0]\n",
    "        xyknot_list = []\n",
    "        for i in range(int(len(row[1:])/2)):\n",
    "            xknot = row[1:][2*i]\n",
    "            yknot = row[1:][2*i + 1]\n",
    "            pair = (xknot, yknot)\n",
    "            xyknot_list.append(pair)\n",
    "        d[int(key)] = xyknot_list\n",
    "    return d\n",
    "\n",
    "def snid_wvl_axis():\n",
    "    nw = 1024\n",
    "    w0 = 2500\n",
    "    w1 = 10000\n",
    "    dwlog = np.log(w1/w0)/nw\n",
    "    #print dwlog\n",
    "    wlog = w0*np.exp(np.arange(nw+1)*dwlog)\n",
    "    #print wlog[:3]\n",
    "    #print wlog[-3:]\n",
    "    dwbin = np.diff(wlog)\n",
    "    #print dwbin[:3]\n",
    "    #print dwbin[-3:]\n",
    "    #print dwbin.shape\n",
    "    new_wlog = []\n",
    "    for i in range(nw):\n",
    "        el = 0.5*(wlog[i]+wlog[i+1])\n",
    "        new_wlog.append(el)\n",
    "    new_wlog = np.array(new_wlog)\n",
    "    #print new_wlog\n",
    "    #print len(new_wlog)\n",
    "    #wlog = wlog[:-1]\n",
    "    #print len(wlog)\n",
    "    #print wlog[:3]\n",
    "    #print wlog[-3:]\n",
    "    return new_wlog, dwbin"
   ]
  },
  {
   "cell_type": "code",
   "execution_count": 176,
   "metadata": {
    "collapsed": false
   },
   "outputs": [
    {
     "data": {
      "text/plain": [
       "[(7.0, -13.91524)]"
      ]
     },
     "execution_count": 176,
     "metadata": {},
     "output_type": "execute_result"
    }
   ],
   "source": [
    "nknot_mean_list = knot_meanflux_list(cont_header)\n",
    "nknot_mean_list"
   ]
  },
  {
   "cell_type": "code",
   "execution_count": 177,
   "metadata": {
    "collapsed": false
   },
   "outputs": [
    {
     "data": {
      "text/plain": [
       "{1: [(2.5676, -0.6231)],\n",
       " 2: [(2.6325, -0.3262)],\n",
       " 3: [(2.705, -0.1975)],\n",
       " 4: [(2.7672, 0.0709)],\n",
       " 5: [(2.8215, 0.1447)],\n",
       " 6: [(2.8698, 0.2371)],\n",
       " 7: [(2.9125, 0.0145)]}"
      ]
     },
     "execution_count": 177,
     "metadata": {},
     "output_type": "execute_result"
    }
   ],
   "source": [
    "xy_knot_dict = knot_dict(cont)\n",
    "xy_knot_dict"
   ]
  },
  {
   "cell_type": "code",
   "execution_count": 178,
   "metadata": {
    "collapsed": false
   },
   "outputs": [],
   "source": [
    "wvl, dwbin = snid_wvl_axis()"
   ]
  },
  {
   "cell_type": "code",
   "execution_count": 179,
   "metadata": {
    "collapsed": true
   },
   "outputs": [],
   "source": [
    "from scipy import interpolate"
   ]
  },
  {
   "cell_type": "code",
   "execution_count": 180,
   "metadata": {
    "collapsed": false
   },
   "outputs": [
    {
     "name": "stdout",
     "output_type": "stream",
     "text": [
      "(2.5676, -0.6231)\n",
      "369.48771225393233 2.895076206107295e-15\n",
      "(2.6325, -0.3262)\n",
      "429.04218923888527 5.7353509787473175e-15\n",
      "(2.705, -0.1975)\n",
      "506.99070827470445 7.713651256584685e-15\n",
      "(2.7672, 0.0709)\n",
      "585.0594519500057 1.431067108320138e-14\n",
      "(2.8215, 0.1447)\n",
      "662.9793476706678 1.69613337540864e-14\n",
      "(2.8698, 0.2371)\n",
      "740.9689339136992 2.098263374393587e-14\n",
      "(2.9125, 0.0145)\n",
      "817.5230379436501 1.2567821389519837e-14\n"
     ]
    }
   ],
   "source": [
    "spline_x = []\n",
    "spline_y = []\n",
    "spline_deg = 3\n",
    "for spline_ind in xy_knot_dict.keys():\n",
    "    pair = xy_knot_dict[spline_ind][0]\n",
    "    print pair\n",
    "    xknot = pair[0]\n",
    "    yknot = pair[1]\n",
    "    xknot = np.power(10,xknot)\n",
    "    yknot = np.power(10,yknot)*np.power(10,nknot_mean_list[0][1])\n",
    "    spline_x.append(xknot)\n",
    "    spline_y.append(yknot)\n",
    "    print xknot, yknot\n",
    "spline_x = np.array(spline_x)\n",
    "spline_y = np.array(spline_y)"
   ]
  },
  {
   "cell_type": "code",
   "execution_count": 181,
   "metadata": {
    "collapsed": false
   },
   "outputs": [
    {
     "name": "stdout",
     "output_type": "stream",
     "text": [
      "[369.48771225 429.04218924 506.99070827 585.05945195 662.97934767\n",
      " 740.96893391 817.52303794]\n",
      "[2.89507621e-15 5.73535098e-15 7.71365126e-15 1.43106711e-14\n",
      " 1.69613338e-14 2.09826337e-14 1.25678214e-14]\n",
      "3\n"
     ]
    }
   ],
   "source": [
    "print spline_x\n",
    "print spline_y\n",
    "print spline_deg"
   ]
  },
  {
   "cell_type": "code",
   "execution_count": 187,
   "metadata": {
    "collapsed": false
   },
   "outputs": [],
   "source": [
    "y=interpolate.splev(x=np.arange(1024)+0.5,tck=(spline_x,spline_y,spline_deg))"
   ]
  },
  {
   "cell_type": "code",
   "execution_count": 188,
   "metadata": {
    "collapsed": false
   },
   "outputs": [
    {
     "data": {
      "text/plain": [
       "array([-4.24858710e-013, -4.22756297e-013, -4.20660830e-013, ...,\n",
       "        2.07507571e-322,  2.07507571e-322,  2.07507571e-322])"
      ]
     },
     "execution_count": 188,
     "metadata": {},
     "output_type": "execute_result"
    }
   ],
   "source": [
    "y"
   ]
  },
  {
   "cell_type": "code",
   "execution_count": 189,
   "metadata": {
    "collapsed": true
   },
   "outputs": [],
   "source": [
    "unflat = []\n",
    "for i in range(len(y)):\n",
    "    newf = (lnw_dat[i,1]+1)*np.power(10,y[i])\n",
    "    unflat.append(newf)\n",
    "unflat = np.array(unflat)"
   ]
  },
  {
   "cell_type": "code",
   "execution_count": 190,
   "metadata": {
    "collapsed": false
   },
   "outputs": [
    {
     "data": {
      "text/plain": [
       "array([1., 1., 1., 1., 1., 1., 1., 1., 1., 1.])"
      ]
     },
     "execution_count": 190,
     "metadata": {},
     "output_type": "execute_result"
    }
   ],
   "source": [
    "unflat[0:10]"
   ]
  },
  {
   "cell_type": "code",
   "execution_count": 191,
   "metadata": {
    "collapsed": false
   },
   "outputs": [
    {
     "data": {
      "image/png": "[encoded data removed]",
      "text/plain": [
       "<Figure size 432x288 with 1 Axes>"
      ]
     },
     "metadata": {},
     "output_type": "display_data"
    }
   ],
   "source": [
    "plt.clf()\n",
    "plt.plot(lnw_dat[:,0],unflat/np.nanmean(unflat),'c',label='unflattened')\n",
    "plt.plot(orig_dat[:,0],orig_dat[:,1]/np.mean(orig_dat[:,1]),'b',label='with continuum')\n",
    "#plt.plot(flat_dat[:,0],flat_dat[:,1],'r',label='snid flattened')\n",
    "plt.plot(lnw_dat[:,0],lnw_dat[:,1],'g',label='logwave output')\n",
    "plt.xlabel('Wavelength')\n",
    "plt.ylabel('Flux')\n",
    "plt.legend()\n",
    "plt.show()"
   ]
  },
  {
   "cell_type": "code",
   "execution_count": 173,
   "metadata": {
    "collapsed": false
   },
   "outputs": [
    {
     "data": {
      "text/plain": [
       "3.475842455413926e-15"
      ]
     },
     "execution_count": 173,
     "metadata": {},
     "output_type": "execute_result"
    }
   ],
   "source": [
    "np.nanmean(unflat)"
   ]
  },
  {
   "cell_type": "code",
   "execution_count": null,
   "metadata": {
    "collapsed": true
   },
   "outputs": [],
   "source": []
  }
 ],
 "metadata": {
  "kernelspec": {
   "display_name": "Python 2",
   "language": "python",
   "name": "python2"
  },
  "language_info": {
   "codemirror_mode": {
    "name": "ipython",
    "version": 2
   },
   "file_extension": ".py",
   "mimetype": "text/x-python",
   "name": "python",
   "nbconvert_exporter": "python",
   "pygments_lexer": "ipython2",
   "version": "2.7.1"
  }
 },
 "nbformat": 4,
 "nbformat_minor": 2
}
